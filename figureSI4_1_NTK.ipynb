{
  "nbformat": 4,
  "nbformat_minor": 0,
  "metadata": {
    "accelerator": "GPU",
    "colab": {
      "name": "figureSI4.1_NTK.ipynb",
      "provenance": [],
      "collapsed_sections": [],
      "machine_shape": "hm"
    },
    "kernelspec": {
      "display_name": "Python 3",
      "name": "python3"
    }
  },
  "cells": [
    {
      "cell_type": "code",
      "metadata": {
        "id": "ZK9A_0CMRP24"
      },
      "source": [
        "### If save data:\n",
        "save_data = False\n",
        "\n",
        "if save_data:\n",
        "  def ensure_dir(file_path):\n",
        "    import os\n",
        "    directory = os.path.dirname(file_path)\n",
        "    if not os.path.exists(directory):\n",
        "        os.makedirs(directory)\n",
        "\n",
        "  from google.colab import drive\n",
        "  drive.mount('/content/drive')\n",
        "  %cd drive/My Drive/\n",
        "  save_dir = \"data/\"\n",
        "  ensure_dir(save_dir)"
      ],
      "execution_count": 1,
      "outputs": []
    },
    {
      "cell_type": "markdown",
      "metadata": {
        "id": "IVttBnZitoyu"
      },
      "source": [
        "# Import Libraries and Neural Tangents"
      ]
    },
    {
      "cell_type": "code",
      "metadata": {
        "colab": {
          "base_uri": "https://localhost:8080/"
        },
        "id": "7zIM3o0ssH0j",
        "outputId": "43f336e6-1415-4b3a-ac39-380d4054f504"
      },
      "source": [
        "import os\n",
        "import sys\n",
        "import numpy as npo\n",
        "import matplotlib.pyplot as plt\n",
        "\n",
        "import jax.numpy as np\n",
        "import jax\n",
        "from jax.config import config\n",
        "from jax import random\n",
        "from jax import jit, grad, vmap\n",
        "from jax.experimental import optimizers\n",
        "\n",
        "!pip install -q git+https://www.github.com/google/neural-tangents\n",
        "import neural_tangents as nt\n",
        "from neural_tangents import stax\n",
        "\n",
        "!pip install -q git+https://github.com/Pehlevan-Group/kernel-generalization\n",
        "from kernel_generalization import kernel_simulation as ker_sim\n",
        "from kernel_generalization import kernel_spectrum as ker_spec\n",
        "from kernel_generalization.utils import gegenbauer\n",
        "\n",
        "import urllib.request\n",
        "dir_gegenbauer = os.path.join(os.getcwd(),'GegenbauerEigenvalues.npz')\n",
        "url = \"https://raw.github.com/Pehlevan-Group/kernel-generalization/main/PrecomputedData/GegenbauerEigenvalues.npz\"\n",
        "urllib.request.urlretrieve(url, dir_gegenbauer)\n",
        "\n",
        "import pytz\n",
        "from datetime import datetime\n",
        "from dateutil.relativedelta import relativedelta\n",
        "\n",
        "def time_now():\n",
        "  return datetime.now(pytz.timezone('US/Eastern')).strftime(\"%m-%d_%H-%M\")\n",
        "\n",
        "def time_diff(t_a, t_b):\n",
        "    t_diff = relativedelta(t_b, t_a)  # later/end time comes first!\n",
        "    return '{h}h {m}m {s}s'.format(h=t_diff.hours, m=t_diff.minutes, s=t_diff.seconds)\n",
        "\n",
        "### Using Time difference\n",
        "### t_start = datetime.now(pytz.timezone('US/Eastern'))\n",
        "### t_end = datetime.now(pytz.timezone('US/Eastern'))\n",
        "### print('Time Elapsed: ' + time_diff(t_start,t_end))\n",
        "\n",
        "print('After running code: ',jax.devices())"
      ],
      "execution_count": 2,
      "outputs": [
        {
          "output_type": "stream",
          "name": "stdout",
          "text": [
            "  Building wheel for neural-tangents (setup.py) ... \u001b[?25l\u001b[?25hdone\n",
            "  Building wheel for kernel-generalization (setup.py) ... \u001b[?25l\u001b[?25hdone\n",
            "After running code:  [GpuDevice(id=0, process_index=0)]\n"
          ]
        }
      ]
    },
    {
      "cell_type": "markdown",
      "metadata": {
        "id": "xTrq-8Mbsim8"
      },
      "source": [
        "# First Define Your Plot Function"
      ]
    },
    {
      "cell_type": "code",
      "metadata": {
        "id": "0YPI8C0UE6se"
      },
      "source": [
        "def plot_shift_data(pvals, error, std, Errs_tot, noise_k, noise, exp_type, tr_errs = None):\n",
        "  i = noise_k\n",
        "  shift = len(noise[i])\n",
        "  colors = ['b', 'g', 'r', 'c', 'm', 'y', 'k']\n",
        "  for j in range(shift):\n",
        "      plt.errorbar(pvals, error[i,j], std[i,j], fmt='o', label = r'$\\sigma = %.3f$' % noise[i,j], color=colors[j])\n",
        "      plt.plot(pvals, Errs_tot[j,:,i], color=colors[j])\n",
        "\n",
        "  if exp_type == 'kernel':\n",
        "    plt.title('Interpolating Kernel Regression (Infinite Parameters)')\n",
        "  else:\n",
        "    plt.title('Neural Network Training')\n",
        "\n",
        "  plt.xlabel('samples')\n",
        "  plt.ylabel('test risk')\n",
        "  plt.xscale('log')\n",
        "  plt.yscale('log')\n",
        "  plt.legend()\n",
        "  plt.show()"
      ],
      "execution_count": 3,
      "outputs": []
    },
    {
      "cell_type": "markdown",
      "metadata": {
        "id": "u_btug83sz5N"
      },
      "source": [
        "# Functions for Data generating and Neural Networks"
      ]
    },
    {
      "cell_type": "code",
      "metadata": {
        "id": "CaSoqKxXT66C"
      },
      "source": [
        "# generate sphere vectors\n",
        "def generate_synth_data(p, dim, key):\n",
        "  x0 = random.normal(key, shape=(p,dim))\n",
        "  x = x0 / npo.outer(npo.linalg.norm(x0, axis=1), npo.ones(dim))\n",
        "  return np.array(x)\n",
        "\n",
        "## Target function is y(x) = Q_k(beta X)\n",
        "## It has a single mode and all weights for degenerate modes are the same\n",
        "def pure_target_fn(X, dim, beta, spectrum, k):\n",
        "  dim = len(beta)\n",
        "  lamb = (dim-2)/2\n",
        "  ## Q(1) from the SI\n",
        "  Q1 = lamb/(lamb+k)*gegenbauer.degeneracy_kernel(dim, k)\n",
        "\n",
        "  z = npo.dot(X, beta) \n",
        "  d = beta.shape[0]\n",
        "  y = gegenbauer.gegenbauer(z, dim, d)[k,:]\n",
        "  # Calculate normalized y:\n",
        "  y_norm = y*spectrum[k]*((k+lamb)/lamb)\n",
        "\n",
        "  return np.array(y_norm)\n",
        "\n",
        "# Generate fully connected NN architecture\n",
        "def fully_connected(num_layers, width):\n",
        "  layers = []\n",
        "  for i in range(num_layers):\n",
        "    layers += [stax.Dense(width, W_std = 1, b_std = 0), stax.Relu()]\n",
        "  layers += [stax.Dense(1, W_std = 1, b_std=0)] \n",
        "  return stax.serial(*layers)\n"
      ],
      "execution_count": 4,
      "outputs": []
    },
    {
      "cell_type": "markdown",
      "metadata": {
        "id": "2ARhD8nAtBF5"
      },
      "source": [
        "# Functions for Theory Curves and Experiments\n"
      ]
    },
    {
      "cell_type": "markdown",
      "metadata": {
        "id": "_fA7K8S-t_T6"
      },
      "source": [
        "## Theory Curves and NTK Spectrum"
      ]
    },
    {
      "cell_type": "code",
      "metadata": {
        "id": "GaXU4WiatFs9"
      },
      "source": [
        "def NTK_spectrum(layers, dim, kmax):\n",
        "  dimension = npo.array([5*(i+1) for i in range(40)])\n",
        "  degree = npo.array([i for i in range(500)]); \n",
        "  layer = npo.array([1, 2, 3, 4, 5, 6, 7, 8, 9]);\n",
        "  \n",
        "  dim_index = npo.where(dimension == dim)[0][0]\n",
        "\n",
        "  lambda_bar, spectrum = ker_spec.ntk_spectrum(dir_gegenbauer, kmax, layer = layers-1, dim = dim_index)\n",
        "  return lambda_bar, spectrum\n",
        "\n",
        "def NTK_theory_and_Noise(pvals, layers, dim, kmax, noise_num, shift, R_tilde = 1, fn_mode = 1, zero_mode = False):\n",
        "\n",
        "  ## Generate spectrum and degeneracies\n",
        "  k = npo.linspace(0,kmax-1,kmax)\n",
        "  a = (dim-2)/2 \n",
        "  kp = ((k+a)/a)\n",
        "\n",
        "  lambda_bar, spectrum = NTK_spectrum(layers, dim, kmax)\n",
        "  degens = npo.array([gegenbauer.degeneracy_kernel(dim, k) for k in range(kmax)])\n",
        "\n",
        "  alpha_s = npo.array([(np.sum(lambda_bar[i+1:]))/lambda_bar[i+1] for i in range(kmax-2)])\n",
        "\n",
        "  noise = npo.zeros((noise_num, len(shift)))\n",
        "  for i in range(noise_num):\n",
        "      for j in range(len(shift)):\n",
        "          if alpha_s[i] >= 2:\n",
        "              alpha = (alpha_s[i]-1)*(1+shift[j])\n",
        "              noise[i,j] = (2*alpha+1)*spectrum[i+1]**2*degens[i+1]\n",
        "          else:\n",
        "              alpha = (alpha_s[i]-1)*(1+shift[j])+1\n",
        "              noise[i,j] = ker_sim.noise(alpha)*spectrum[i+1]**2*degens[i+1]\n",
        "\n",
        "  Sol = npo.zeros((len(shift), len(pvals), kmax, noise_num))\n",
        "  Errs_tot = npo.zeros((len(shift), len(pvals), noise_num))\n",
        "  Cum_gen_errs = npo.zeros((len(shift), len(pvals), kmax, noise_num))\n",
        "\n",
        "  for i in range(len(shift)):\n",
        "      Sol[i], Errs_tot[i], Cum_gen_errs[i]= ker_sim.simulate_pure_gen_error(pvals, spectrum, degens,\n",
        "                                                                       noise[:, i], pure_mode = fn_mode, \n",
        "                                                                       zero_mode=zero_mode)\n",
        "  \n",
        "  ## Scale the theoretical error with test radius (R_train = 1)\n",
        "  Errs_tot = Errs_tot * R_tilde**2\n",
        "  return Sol, Errs_tot, noise, alpha_s, spectrum, degens\n"
      ],
      "execution_count": 5,
      "outputs": []
    },
    {
      "cell_type": "markdown",
      "metadata": {
        "id": "WFR9qr37t3Rr"
      },
      "source": [
        "## Kernel Regression Functions"
      ]
    },
    {
      "cell_type": "code",
      "metadata": {
        "id": "X_W29k9Ct2oF"
      },
      "source": [
        "### Kernel Regression Experiment Synthetic Data ###\n",
        "### The function generates a pure mode target function and \n",
        "### performs kernel regression on a given kernel_fn with\n",
        "### randomly sampled training and test data on unit \"dim\"-sphere.\n",
        "\n",
        "def kernel_expt(kernel_fn, pvals, p_test, sigma, dim, spectrum, num_repeats, all_keys, R_tilde = 1, fn_mode = 1):\n",
        "\n",
        "  ## First of all we fix a target function by generating a\n",
        "  ## projection vector \"beta\" in \"dim\" dimensions and specifying\n",
        "  ## the function's mode index \"fn_mode\" (fn_mode = 1, linear target)\n",
        "  beta = generate_synth_data(1, dim, all_keys[0,:])[0,:]\n",
        "\n",
        "  gen_errs = npo.zeros((len(pvals), num_repeats))\n",
        "  for i, p in enumerate(pvals):\n",
        "    for j in range(num_repeats):\n",
        "      \n",
        "      # Generate fresh training and test data\n",
        "      tr_key, test_key, noise_key = random.split(all_keys[j,:], 3)\n",
        "      # Generate random inputs and label noise\n",
        "      X = generate_synth_data(p, dim, tr_key)\n",
        "      ## Change the test radius\n",
        "      X_test = generate_synth_data(p_test, dim, test_key)*R_tilde\n",
        "      label_noise = npo.sqrt(sigma)*random.normal(noise_key, shape=(p,1))\n",
        "      # Calculate corresponding labels given the weights beta and fn_mode\n",
        "      y = pure_target_fn(X, dim, beta, spectrum, fn_mode).reshape(p,1) + label_noise\n",
        "      y_test = pure_target_fn(X_test, dim, beta, spectrum, fn_mode).reshape(p_test,1)\n",
        "\n",
        "      ## Perform regression using NeuralTangents Package\n",
        "      predict_fn = nt.predict.gradient_descent_mse_ensemble(kernel_fn, X, y, diag_reg=1e-15)\n",
        "      yhat = predict_fn(x_test=X_test, get='ntk', compute_cov=False)\n",
        "\n",
        "      ## Calculate MSE\n",
        "      gen_errs[i,j] = npo.mean((y_test-yhat)**2)\n",
        "\n",
        "    ## Calculate repeat averaged errors and standard deviation\n",
        "    errs = npo.mean(gen_errs, axis = 1)\n",
        "    std_errs = npo.std(gen_errs, axis = 1)\n",
        "\n",
        "  return errs, std_errs"
      ],
      "execution_count": 6,
      "outputs": []
    },
    {
      "cell_type": "markdown",
      "metadata": {
        "id": "zERI6gSZuhJ4"
      },
      "source": [
        "## Neural Network Training Functions\n"
      ]
    },
    {
      "cell_type": "code",
      "metadata": {
        "id": "KKyGZvPzuq3L"
      },
      "source": [
        "# training NN here\n",
        "\n",
        "def train_nn(key, init_fn, apply_fn, nn_loss, grad_loss, optimizer, X_test, train_set, num_iter):\n",
        "  \n",
        "  (X, y) = train_set\n",
        "  losses = []\n",
        "  _,params = init_fn(key, (-1, X.shape[1]))\n",
        "\n",
        "  opt_init, opt_update, get_params = optimizer\n",
        "  opt_state = opt_init(params)\n",
        "\n",
        "  for t in range(num_iter):\n",
        "    opt_state = opt_update(t, grad_loss(opt_state, *train_set), opt_state)\n",
        "    loss = nn_loss(get_params(opt_state), *train_set)\n",
        "    losses.append(loss)\n",
        "\n",
        "  params = get_params(opt_state)\n",
        "  yhat_ensemble = apply_fn(params, X_test)\n",
        "  losses = np.array(losses)\n",
        "  return opt_state, losses, yhat_ensemble\n",
        "\n",
        "# experiment for sample wise generalization error \n",
        "# for overparameterized model\n",
        "def nn_expt(init_fn, apply_fn, pvals, p_test, sigma, dim, spectrum, num_repeats, all_keys, lr, num_iter, fn_mode = 1, ensemble_size = 1, verbose = True):\n",
        "\n",
        "  ## First of all we fix a target function by generating a\n",
        "  ## projection vector \"beta\" in \"dim\" dimensions and specifying\n",
        "  ## the function's mode index \"fn_mode\" (fn_mode = 1, linear target)\n",
        "  beta = generate_synth_data(1, dim, all_keys[0,:])[0,:]\n",
        "\n",
        "  gen_errs = npo.zeros((len(pvals), num_repeats))\n",
        "  training_errs = []\n",
        "  training_errs_std = []\n",
        "\n",
        "  beginning = datetime.now()\n",
        "\n",
        "  for i, p in enumerate(pvals):\n",
        "    t_start = datetime.now()\n",
        "    train_errs_p = []\n",
        "    for j in range(num_repeats):\n",
        "      # Generate fresh training and test data\n",
        "      tr_key, test_key, noise_key = random.split(all_keys[j,:], 3)\n",
        "      # Generate random inputs and label noise\n",
        "      X_train = generate_synth_data(p, dim, tr_key)\n",
        "      X_test = generate_synth_data(p_test, dim, test_key)\n",
        "      label_noise = npo.sqrt(sigma)*random.normal(noise_key, shape=(p,1))\n",
        "      # Calculate corresponding labels given the weights beta and fn_mode\n",
        "      y_train = pure_target_fn(X_train, dim, beta, spectrum, fn_mode).reshape(p,1) + label_noise\n",
        "      y_test = pure_target_fn(X_test, dim, beta, spectrum, fn_mode).reshape(p_test,1)\n",
        "      \n",
        "      train_set = (X_train, y_train)\n",
        "      test_set = (X_test, y_test)\n",
        "\n",
        "      if p > 1000:\n",
        "        num_iter = 2000\n",
        "\n",
        "      Ktr = kernel_fn(X_train,None,'ntk')\n",
        "      \n",
        "      optimizer = optimizers.adam(lr)\n",
        "      # lr_max = nt.predict.max_learning_rate(Ktr)/10\n",
        "      # optimizer = optimizers.sgd(lr_max)\n",
        "      opt_init, opt_update, get_params = optimizer\n",
        "\n",
        "\n",
        "      nn_loss = jit(lambda params, X, y: np.mean((apply_fn(params, X) - y)**2))\n",
        "      grad_loss = jit(lambda state, x, y: grad(nn_loss)(get_params(state), x, y))\n",
        "\n",
        "      ensemble_key = random.split(all_keys[j,:], ensemble_size)\n",
        "      output = vmap(train_nn, (0, None, None, None, None, None, None, None, None))(ensemble_key, init_fn, apply_fn, nn_loss, grad_loss, \n",
        "                                                                                   optimizer, X_test, train_set, num_iter)\n",
        "      \n",
        "      opt_state, train_losses, yhat_ensemble = output\n",
        "      \n",
        "      ## Perfom ensamble averaging\n",
        "      train_errs_p += [np.mean(train_losses, axis=0)]\n",
        "      yhat = np.mean(yhat_ensemble, axis=0)\n",
        "      gen_errs[i,j] = np.mean((yhat - y_test)**2)\n",
        "\n",
        "      sys.stdout.write(\"\\r P = %d, gen error: %0.4f | train error: %0.3e | Repeat: %d/%d\" \n",
        "                             % (p, gen_errs[i,j], train_errs_p[j][-1], j+1, num_repeats))\n",
        "\n",
        "    t_end = datetime.now()\n",
        "\n",
        "    # For each P average Gen Error and Training Error over trials\n",
        "    err = npo.mean(gen_errs[i], axis = 0)\n",
        "    std_err = npo.std(gen_errs[i], axis = 0)\n",
        "\n",
        "    tr_err = npo.mean(np.array(train_errs_p), axis = 0)\n",
        "    tr_err_std = npo.std(np.array(train_errs_p), axis = 0)\n",
        "\n",
        "    training_errs += [tr_err]\n",
        "    training_errs_std += [tr_err_std]\n",
        "\n",
        "    if verbose:\n",
        "      string_print = \"\\r P = %d, gen error: %0.4f | train error: %0.3e | Time Elapsed: \" % (p, err, tr_err[-1])\n",
        "      sys.stdout.write(string_print + time_diff(t_start,t_end) + \"\\n\")\n",
        "      itr = npo.linspace(1,num_iter,num_iter)\n",
        "      plt.errorbar(npo.log10(itr), npo.log10(tr_err), tr_err_std/tr_err, fmt = 'o', elinewidth = 0.2)\n",
        "      plt.show()\n",
        "\n",
        "  ending = datetime.now()\n",
        "  print('Total Time Elapsed: ' + time_diff(beginning,ending))\n",
        "\n",
        "  return npo.mean(gen_errs, axis = 1), npo.std(gen_errs, axis = 1), training_errs, training_errs_std"
      ],
      "execution_count": 7,
      "outputs": []
    },
    {
      "cell_type": "markdown",
      "metadata": {
        "id": "UEaUrNeyuH1_"
      },
      "source": [
        "# Experiments"
      ]
    },
    {
      "cell_type": "code",
      "metadata": {
        "colab": {
          "base_uri": "https://localhost:8080/",
          "height": 632
        },
        "id": "2WgvUDF8yxGL",
        "outputId": "214a8a65-ebf7-4b2b-8278-65537aed38e2"
      },
      "source": [
        "timestamp = time_now()\n",
        "\n",
        "import warnings\n",
        "warnings.simplefilter(action='ignore', category=FutureWarning)\n",
        "warnings.simplefilter(action='ignore', category=UserWarning)\n",
        "\n",
        "## Experiment Parameters\n",
        "num_repeats_ker = 15 #150\n",
        "num_repeats_nn = 5 #5\n",
        "num_iter_nn = 500\n",
        "\n",
        "## NN Hyperparameters\n",
        "lr = 0.008\n",
        "width = 2000\n",
        "layers = 1\n",
        "ensemble_size_list = [20]\n",
        "\n",
        "## Dimension, sample sizes, max eigenvalue mode\n",
        "dim = 30\n",
        "pvals = npo.logspace(0.5, 4, num = 20).astype('int')\n",
        "p_test = 1500\n",
        "kmax = 200\n",
        "\n",
        "## Target function mode and label noise\n",
        "fn_mode = 1\n",
        "noise_num = 2\n",
        "shift = npo.array([-0.8, 0, 1])\n",
        "R_tilde = 0.5\n",
        "\n",
        "key = random.PRNGKey(0)\n",
        "all_keys = random.split(key, max(num_repeats_nn, num_repeats_ker))\n",
        "\n",
        "if save_data:\n",
        "  parent = save_dir + 'NNExp_width_%d-layer_%d-fn_mode_%d/'%(width,layers,fn_mode)\n",
        "  ensure_dir(parent)\n",
        "\n",
        "# create NN and kernel function\n",
        "init_fn, apply_fn, kernel_fn = fully_connected(layers, width)\n",
        "apply_fn = jit(apply_fn)\n",
        "kernel_fn = jit(kernel_fn, static_argnums=(2,))\n",
        "\n",
        "# Generate Theory curves and Noise\n",
        "Sol, Errs_tot, noise, alpha_s, spectrum, degens = NTK_theory_and_Noise(pvals, layers, dim, kmax, noise_num, shift, \n",
        "                                                                      R_tilde, fn_mode = fn_mode, zero_mode=False)\n",
        "\n",
        "params = {'dim': dim, 'kmax': kmax, 'layer': layers, 'width': width,\n",
        "          'test_samp': p_test, 'num_repeat_ker': num_repeats_ker, \n",
        "          'num_repeat_nn': num_repeats_nn, 'num_iter_nn': num_iter_nn, \n",
        "          'noise': noise, 'noise_num': noise_num, 'shift': shift, \n",
        "          'ensemble_size_list': ensemble_size_list, 'fn_mode': fn_mode, \n",
        "          'alpha_s': alpha_s, 'degens': degens}\n",
        "\n",
        "if save_data:\n",
        "  filename_theory = parent + timestamp + 'error_theory.npz'\n",
        "  np.savez(filename_theory, pvals, Sol, Errs_tot, params)\n",
        "\n",
        "### Start the kernel experiment\n",
        "\n",
        "err_regression = npo.zeros((noise_num, len(shift), len(pvals)))\n",
        "std_regression = npo.zeros((noise_num, len(shift), len(pvals)))\n",
        "\n",
        "print('Kernel Regression Start @ ' + time_now())\n",
        "for i in range(noise_num):\n",
        "  t_start = datetime.now()\n",
        "  for j in range(len(shift)):\n",
        "    data = kernel_expt(kernel_fn, pvals, p_test, noise[i, j], dim, spectrum, num_repeats_ker, all_keys, R_tilde, fn_mode = fn_mode)\n",
        "    err_regression[i, j] = data[0]\n",
        "    std_regression[i, j] = data[1]\n",
        "  \n",
        "  t_end = datetime.now()\n",
        "  print('Time Elapsed: ' + time_diff(t_start,t_end))\n",
        "\n",
        "  plot_shift_data(pvals, err_regression, std_regression, Errs_tot, i, noise, 'kernel')\n",
        "if save_data:\n",
        "  filename_exp = directory + timestamp + 'final_error_exp_NN.npz'\n",
        "  np.savez(filename_exp, err_NN, std_NN, tr_err_NN, std_tr_err_NN)"
      ],
      "execution_count": 8,
      "outputs": [
        {
          "output_type": "stream",
          "name": "stdout",
          "text": [
            "Kernel Regression Start @ 10-28_23-53\n",
            "Time Elapsed: 0h 2m 2s\n"
          ]
        },
        {
          "output_type": "display_data",
          "data": {
            "image/png": "[encoded data removed]",
            "text/plain": [
              "<Figure size 432x288 with 1 Axes>"
            ]
          },
          "metadata": {
            "needs_background": "light"
          }
        },
        {
          "output_type": "stream",
          "name": "stdout",
          "text": [
            "Time Elapsed: 0h 0m 41s\n"
          ]
        },
        {
          "output_type": "display_data",
          "data": {
            "image/png": "[encoded data removed]",
            "text/plain": [
              "<Figure size 432x288 with 1 Axes>"
            ]
          },
          "metadata": {
            "needs_background": "light"
          }
        }
      ]
    },
    {
      "cell_type": "code",
      "metadata": {
        "id": "zmjEonMKkXip",
        "colab": {
          "base_uri": "https://localhost:8080/",
          "height": 297
        },
        "outputId": "7cc5ba69-f2d7-42e5-d39a-470798bcc058"
      },
      "source": [
        "i = 1\n",
        "shift = len(noise[i])\n",
        "colors = ['b', 'g', 'r', 'c', 'm', 'y', 'k']\n",
        "for j in range(shift):\n",
        "    plt.errorbar(pvals, err_regression[i,j], std_regression[i,j], fmt='o', label = r'$\\sigma = %.1e$' % np.sqrt(noise[i,j]), color=colors[j])\n",
        "    plt.plot(pvals, Errs_tot[j,:,i], color=colors[j])\n",
        "\n",
        "plt.title('NTK Regression with $\\lambda = 0$')\n",
        "\n",
        "plt.ylim([1e-6, 1e-1])\n",
        "plt.xlabel('$P$', fontsize = 20)\n",
        "plt.ylabel('$E_g(P)$', fontsize = 20)\n",
        "plt.xscale('log')\n",
        "plt.yscale('log')\n",
        "plt.legend()\n",
        "plt.tight_layout()\n",
        "plt.savefig('NTK_regression_R_tilde_0_5.pdf')\n",
        "plt.show()"
      ],
      "execution_count": 9,
      "outputs": [
        {
          "output_type": "display_data",
          "data": {
            "image/png": "[encoded data removed]",
            "text/plain": [
              "<Figure size 432x288 with 1 Axes>"
            ]
          },
          "metadata": {
            "needs_background": "light"
          }
        }
      ]
    },
    {
      "cell_type": "code",
      "metadata": {
        "id": "DALlDQo_dZCy"
      },
      "source": [
        ""
      ],
      "execution_count": 9,
      "outputs": []
    }
  ]
}